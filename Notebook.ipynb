{
 "cells": [
  {
   "cell_type": "code",
   "execution_count": 1,
   "id": "611ded63",
   "metadata": {},
   "outputs": [],
   "source": [
    "import os\n",
    "import pandas as pd\n",
    "import importlib"
   ]
  },
  {
   "cell_type": "code",
   "execution_count": 9,
   "id": "4f337b0f",
   "metadata": {},
   "outputs": [
    {
     "data": {
      "text/plain": [
       "<module '_code.education' from 'd:\\\\1 - Research and Studies\\\\0 - Homepage\\\\_code\\\\education.py'>"
      ]
     },
     "execution_count": 9,
     "metadata": {},
     "output_type": "execute_result"
    }
   ],
   "source": [
    "from _code import publications, homepage, education, html_list\n",
    "\n",
    "importlib.reload(html_list)\n",
    "importlib.reload(publications)\n",
    "importlib.reload(homepage)\n",
    "importlib.reload(education)"
   ]
  },
  {
   "cell_type": "code",
   "execution_count": 10,
   "id": "33d26cd2",
   "metadata": {},
   "outputs": [],
   "source": [
    "from _code.publications import Publications\n",
    "\n",
    "pp = Publications('Preprints')\n",
    "pp.process_entries()\n",
    "preprints_contents = pp.list_contents\n",
    "\n",
    "pp.filename = 'Publications'\n",
    "pp.process_entries()\n",
    "publications_contents = pp.list_contents"
   ]
  },
  {
   "cell_type": "code",
   "execution_count": 11,
   "id": "510c0583",
   "metadata": {},
   "outputs": [],
   "source": [
    "from _code.homepage import Homepage\n",
    "from _code.education import Education\n",
    "\n",
    "\n",
    "hp = Homepage()\n",
    "\n",
    "ed = Education()\n",
    "ed.process_entries()\n",
    "ed_contents = ed.list_contents\n",
    "\n",
    "pp.filename = 'Selected Works'\n",
    "pp.process_entries()\n",
    "selected_contents = pp.list_contents"
   ]
  },
  {
   "cell_type": "code",
   "execution_count": 12,
   "id": "210b1e3b",
   "metadata": {},
   "outputs": [],
   "source": [
    "with open(\"pages/publications.html\", \"w\") as f:\n",
    "    print(pp.page_header() + preprints_contents + publications_contents, file=f)"
   ]
  },
  {
   "cell_type": "code",
   "execution_count": 13,
   "id": "8469c668",
   "metadata": {},
   "outputs": [],
   "source": [
    "with open(\"pages/index.html\", \"w\") as f:\n",
    "    print(hp.page_header() + hp.get_links() + hp.research_interests() + ed_contents + selected_contents, file=f)"
   ]
  },
  {
   "cell_type": "code",
   "execution_count": null,
   "id": "442a3cae",
   "metadata": {},
   "outputs": [],
   "source": []
  },
  {
   "cell_type": "code",
   "execution_count": 72,
   "id": "f509f620",
   "metadata": {
    "scrolled": false
   },
   "outputs": [
    {
     "name": "stdout",
     "output_type": "stream",
     "text": [
      "<h1 class=\"code-line\" data-line-start=0 data-line-end=1 ><a id=\"Hassan_Ali_0\"></a>Hassan Ali</h1>\n",
      "\n",
      "<p class=\"has-line-data\" data-line-start=\"2\" data-line-end=\"4\">\n",
      "<a href=mailto:“hassanalikhatim@gmail.com”>Mail</a> | \n",
      "<a href=\"https://hassanalikhatim.github.io/documents/Resume.pdf\", target=\"_blank\">CV</a> | \n",
      "<a href=\"https://scholar.google.com/citations?user=MhiaZiQAAAAJ&hl=en\">Google Scholar</a> | \n",
      "<a href=\"https://github.com/hassanalikhatim\">Github</a> | \n",
      "<a href=\"https://hassanalikhatim.github.io/pages/publications.html\">Publications and Preprints</a>\n",
      "</p>\n",
      "<p class=\"has-line-data\" data-line-start=\"5\" data-line-end=\"6\">\n",
      "I work as a Research Assistant at IHSAN Lab, Information Technology University (ITU), Lahore, Pakistan.\n",
      "\n",
      "<br><br>My research interests are diverse.\n",
      "<br>&emsp; &bull; &emsp; I want to build frameworks for reliable and trustworthy Artificial Intelligence (AI) algorithms focused on real-world applications and challenges.\n",
      "<br>&emsp; &bull; &emsp; I am interested in few-shot media generation, particularly text-to-video generation, using AI.\n",
      "<br>&emsp; &bull; &emsp; I want to enable ML as a product in real-world settings (e.g., ML as a service (supporting encryption standards/protocols), ML on edge).\n",
      "\n",
      "<br><br>My past research work has largely focused on the trustworthy Machine Learning (ML) algorithms, particularly Deep Neural Networks (DNNs), where the trustworthiness refers to the adversarial robustness, security, privacy, interpretability, alignment and fairness of DNNs.\n",
      "\n",
      "<br><br>I can be contacted at: <a href=mailto:“hassanalikhatim@gmail.com”>hassanalikhatim@gmail.com</a>\n",
      "</p>\n",
      "\n",
      "<h2 class=\"code-line\" data-line-start=1 data-line-end=2 ><a id=\"ITU_1\"></a>Education</h2>\n",
      "<ol>\n",
      "\n",
      "<li class=\"has-line-data\" data-line-start=\"1\" data-line-end=\"2\">\n",
      "Master of Science in Electrical Engineering (Digital Systems and Signal Processing)<br>\n",
      "<em>School of Electrical Engineering and Computer Science (SEECS), National University of Sciences and Technology (NUST), H-12 Sector, Islamabad, Pakistan.</em>. \n",
      "</li>\n",
      "\n",
      "<li class=\"has-line-data\" data-line-start=\"1\" data-line-end=\"2\">\n",
      "Bachelor of Science in Electrical Engineering<br>\n",
      "<em>Department of Electrical Engineering and Technology, University of Engineering and Technology (UET), Lahore, Pakistan.</em>. \n",
      "</li>\n",
      "\n",
      "</ol>\n",
      "\n",
      "<h2 class=\"code-line\" data-line-start=1 data-line-end=2 ><a id=\"ITU_1\"></a>Selected Works</h2>\n",
      "<ol>\n",
      "\n",
      "<li class=\"has-line-data\" data-line-start=\"1\" data-line-end=\"2\">\n",
      "[<a href=\"https://arxiv.org/pdf/2307.05193\">Link</a>]\n",
      "[<a href=\"\">Code</a>]\n",
      "[Self-citations = 6]<br>\n",
      "Hassan Ali, Adnan Qayyum, Ala Al-Fuqaha, and Junaid Qadir. \"Membership Inference Attacks on DNNs using Adversarial Perturbations.\" <em>arXiv preprint arXiv:2307.05193 (2023)</em>. \n",
      "</li>\n",
      "\n",
      "<li class=\"has-line-data\" data-line-start=\"1\" data-line-end=\"2\">\n",
      "[<a href=\"https://arxiv.org/pdf/2303.02669\">Link</a>]\n",
      "[<a href=\"https://github.com/hassanalikhatim/CVP-Attack\">Code</a>]\n",
      "[Self-citations = 6]<br>\n",
      "Hassan Ali, Muhammad Atif Butt, Fethi Filali, Ala Al-Fuqaha, and Junaid Qadir. \"Consistent Valid Physically-Realizable Adversarial Attack against Crowd-flow Prediction Models.\" <em>arXiv preprint arXiv:2303.02669 (2023)</em>. \n",
      "</li>\n",
      "\n",
      "<li class=\"has-line-data\" data-line-start=\"1\" data-line-end=\"2\">\n",
      "[<a href=\"https://www.sciencedirect.com/science/article/pii/S0167404823002778\">Link</a>]\n",
      "[<a href=\"https://github.com/hassanalikhatim/Con-Detect\">Code</a>]\n",
      "[Self-citations = 6]<br>\n",
      "Hassan Ali*, Muhammad Suleman Khan*, Amer AlGhadhban, Meshari Alazmi, Ahmad Alzamil, Khaled AlUtaibi, and Junaid Qadir. \"Con-detect: Detecting adversarially perturbed natural language inputs to deep classifiers through holistic analysis.\" <em>Computers & Security 132 (2023): 103367</em>. (*equal contribution)\n",
      "</li>\n",
      "\n",
      "<li class=\"has-line-data\" data-line-start=\"1\" data-line-end=\"2\">\n",
      "[<a href=\"https://www.sciencedirect.com/science/article/pii/S0167404822001857\">Link</a>]\n",
      "[<a href=\"https://github.com/hassanalikhatim/Tamp-X\">Code</a>]\n",
      "[Self-citations = 4]<br>\n",
      "Hassan Ali*, Muhammad Suleman Khan*, Ala Al-Fuqaha, and Junaid Qadir. \"Tamp-X: Attacking explainable natural language classifiers through tampered activations.\" <em>Computers & Security 120 (2022): 102791</em>. (*equal contribution)\n",
      "</li>\n",
      "\n",
      "<li class=\"has-line-data\" data-line-start=\"1\" data-line-end=\"2\">\n",
      "[<a href=\"https://ieeexplore.ieee.org/abstract/document/9207635/\">Link</a>]\n",
      "[<a href=\"https://github.com/hassanalikhatim/QuSecNets_SSCNets_FaDec\">Code</a>]\n",
      "[Self-citations = 1]<br>\n",
      "Faiq Khalid*, Hassan Ali*, Muhammad Abdullah Hanif, Semeen Rehman, Rehan Ahmed, and Muhammad Shafique. \"Fadec: A fast decision-based attack for adversarial machine learning.\" <em>In 2020 International Joint Conference on Neural Networks (IJCNN), pp. 1-8. IEEE, 2020</em>. (*equal contribution)\n",
      "</li>\n",
      "\n",
      "</ol>\n",
      "\n"
     ]
    }
   ],
   "source": [
    "print(hp.page_header() + hp.get_links() + hp.research_interests() + ed_contents + selected_contents)"
   ]
  },
  {
   "cell_type": "code",
   "execution_count": null,
   "id": "7c9fcc49",
   "metadata": {},
   "outputs": [],
   "source": []
  }
 ],
 "metadata": {
  "kernelspec": {
   "display_name": "Python 3 (ipykernel)",
   "language": "python",
   "name": "python3"
  },
  "language_info": {
   "codemirror_mode": {
    "name": "ipython",
    "version": 3
   },
   "file_extension": ".py",
   "mimetype": "text/x-python",
   "name": "python",
   "nbconvert_exporter": "python",
   "pygments_lexer": "ipython3",
   "version": "3.8.11"
  }
 },
 "nbformat": 4,
 "nbformat_minor": 5
}
